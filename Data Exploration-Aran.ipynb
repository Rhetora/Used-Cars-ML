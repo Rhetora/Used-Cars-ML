{
 "cells": [
  {
   "cell_type": "markdown",
   "metadata": {},
   "source": [
    "# Data Exploration of Used Cars Dataset"
   ]
  },
  {
   "cell_type": "code",
   "execution_count": 1,
   "metadata": {},
   "outputs": [],
   "source": [
    "import pandas as pd\n",
    "import numpy as np\n",
    "import matplotlib.pyplot as plt\n",
    "import seaborn as sns"
   ]
  },
  {
   "cell_type": "code",
   "execution_count": 2,
   "metadata": {},
   "outputs": [],
   "source": [
    "carsFull = pd.read_csv('vehicles.csv', nrows=120000) #take 10k rows due to memory limitations\n",
    "cars = carsFull.sample(n=10000)\n",
    "del(carsFull)"
   ]
  },
  {
   "cell_type": "code",
   "execution_count": 3,
   "metadata": {},
   "outputs": [],
   "source": [
    "#Remove clearly redundant features\n",
    "cars = cars.drop(['Unnamed: 0', 'id', 'url', 'region_url', 'image_url'], axis=1)\n",
    "#Unnamed and id columns will have no correlation\n",
    "#Url and region url are links to pages that data was scraped from, again obviously no correlation\n",
    "#image url, could use computer vision on this but this is outside scope"
   ]
  },
  {
   "cell_type": "code",
   "execution_count": 75,
   "metadata": {},
   "outputs": [
    {
     "name": "stdout",
     "output_type": "stream",
     "text": [
      "Number of Features =  21\n",
      "\n",
      "Percentage Empty Features: \n",
      "region : Percentage Empty:  0.0\n",
      "price : Percentage Empty:  0.0\n",
      "year : Percentage Empty:  0.0\n",
      "manufacturer : Percentage Empty:  0.0\n",
      "model : Percentage Empty:  0.0\n",
      "condition : Percentage Empty:  38.82934005884825\n",
      "cylinders : Percentage Empty:  36.6015132408575\n",
      "fuel : Percentage Empty:  0.0\n",
      "odometer : Percentage Empty:  12.211013030685162\n",
      "title_status : Percentage Empty:  0.47288776796973514\n",
      "transmission : Percentage Empty:  0.451870533837747\n",
      "VIN : Percentage Empty:  39.722572509457756\n",
      "drive : Percentage Empty:  29.918032786885245\n",
      "size : Percentage Empty:  69.45145018915511\n",
      "type : Percentage Empty:  21.385035729298025\n",
      "paint_color : Percentage Empty:  28.11055065153426\n",
      "description : Percentage Empty:  0.010508617065994114\n",
      "state : Percentage Empty:  0.0\n",
      "lat : Percentage Empty:  0.5674653215636822\n",
      "long : Percentage Empty:  0.5674653215636822\n",
      "posting_date : Percentage Empty:  0.0\n"
     ]
    },
    {
     "data": {
      "text/html": [
       "<div>\n",
       "<style scoped>\n",
       "    .dataframe tbody tr th:only-of-type {\n",
       "        vertical-align: middle;\n",
       "    }\n",
       "\n",
       "    .dataframe tbody tr th {\n",
       "        vertical-align: top;\n",
       "    }\n",
       "\n",
       "    .dataframe thead th {\n",
       "        text-align: right;\n",
       "    }\n",
       "</style>\n",
       "<table border=\"1\" class=\"dataframe\">\n",
       "  <thead>\n",
       "    <tr style=\"text-align: right;\">\n",
       "      <th></th>\n",
       "      <th>price</th>\n",
       "      <th>year</th>\n",
       "      <th>odometer</th>\n",
       "      <th>lat</th>\n",
       "      <th>long</th>\n",
       "    </tr>\n",
       "  </thead>\n",
       "  <tbody>\n",
       "    <tr>\n",
       "      <th>count</th>\n",
       "      <td>9.516000e+03</td>\n",
       "      <td>9516.000000</td>\n",
       "      <td>8.354000e+03</td>\n",
       "      <td>9462.000000</td>\n",
       "      <td>9462.000000</td>\n",
       "    </tr>\n",
       "    <tr>\n",
       "      <th>mean</th>\n",
       "      <td>1.582147e+04</td>\n",
       "      <td>2010.987285</td>\n",
       "      <td>9.183675e+04</td>\n",
       "      <td>35.244791</td>\n",
       "      <td>-101.201659</td>\n",
       "    </tr>\n",
       "    <tr>\n",
       "      <th>std</th>\n",
       "      <td>3.798001e+04</td>\n",
       "      <td>8.488399</td>\n",
       "      <td>1.339768e+05</td>\n",
       "      <td>6.447106</td>\n",
       "      <td>19.567708</td>\n",
       "    </tr>\n",
       "    <tr>\n",
       "      <th>min</th>\n",
       "      <td>0.000000e+00</td>\n",
       "      <td>1925.000000</td>\n",
       "      <td>0.000000e+00</td>\n",
       "      <td>24.563320</td>\n",
       "      <td>-151.717600</td>\n",
       "    </tr>\n",
       "    <tr>\n",
       "      <th>25%</th>\n",
       "      <td>5.496500e+03</td>\n",
       "      <td>2008.000000</td>\n",
       "      <td>4.003400e+04</td>\n",
       "      <td>31.639843</td>\n",
       "      <td>-119.020000</td>\n",
       "    </tr>\n",
       "    <tr>\n",
       "      <th>50%</th>\n",
       "      <td>1.199950e+04</td>\n",
       "      <td>2013.000000</td>\n",
       "      <td>8.148000e+04</td>\n",
       "      <td>34.184850</td>\n",
       "      <td>-104.785056</td>\n",
       "    </tr>\n",
       "    <tr>\n",
       "      <th>75%</th>\n",
       "      <td>2.199500e+04</td>\n",
       "      <td>2016.000000</td>\n",
       "      <td>1.269778e+05</td>\n",
       "      <td>38.608933</td>\n",
       "      <td>-82.445500</td>\n",
       "    </tr>\n",
       "    <tr>\n",
       "      <th>max</th>\n",
       "      <td>3.429900e+06</td>\n",
       "      <td>2021.000000</td>\n",
       "      <td>1.000000e+07</td>\n",
       "      <td>64.878089</td>\n",
       "      <td>-70.642000</td>\n",
       "    </tr>\n",
       "  </tbody>\n",
       "</table>\n",
       "</div>"
      ],
      "text/plain": [
       "              price         year      odometer          lat         long\n",
       "count  9.516000e+03  9516.000000  8.354000e+03  9462.000000  9462.000000\n",
       "mean   1.582147e+04  2010.987285  9.183675e+04    35.244791  -101.201659\n",
       "std    3.798001e+04     8.488399  1.339768e+05     6.447106    19.567708\n",
       "min    0.000000e+00  1925.000000  0.000000e+00    24.563320  -151.717600\n",
       "25%    5.496500e+03  2008.000000  4.003400e+04    31.639843  -119.020000\n",
       "50%    1.199950e+04  2013.000000  8.148000e+04    34.184850  -104.785056\n",
       "75%    2.199500e+04  2016.000000  1.269778e+05    38.608933   -82.445500\n",
       "max    3.429900e+06  2021.000000  1.000000e+07    64.878089   -70.642000"
      ]
     },
     "execution_count": 75,
     "metadata": {},
     "output_type": "execute_result"
    },
    {
     "data": {
      "image/png": "[encoded data removed]",
      "text/plain": [
       "<Figure size 432x288 with 1 Axes>"
      ]
     },
     "metadata": {
      "needs_background": "light"
     },
     "output_type": "display_data"
    }
   ],
   "source": [
    "print(\"Number of Features = \", len(cars.columns))\n",
    "print(\"\\nPercentage Empty Features: \")\n",
    "missingInFeature = pd.DataFrame(columns=cars.columns)\n",
    "for feature in cars.columns:\n",
    "    print(feature, \": \", end=\"\") \n",
    "    percentEmpty = cars[feature].isna().sum()/len(cars[feature])*100\n",
    "    print(\"Percentage Empty: \", percentEmpty)\n",
    "    missingInFeature.at[0, feature] = percentEmpty\n",
    "    \n",
    "df = pd.DataFrame({'feature':missingInFeature.columns, 'missing':missingInFeature.loc[0]})\n",
    "df.plot.bar()\n",
    "\n",
    "#Mean and variance\n",
    "cars.describe()"
   ]
  },
  {
   "cell_type": "code",
   "execution_count": 74,
   "metadata": {},
   "outputs": [],
   "source": [
    "cars = cars.drop(cars[cars['model'].isna()].index, axis=0).drop(cars[cars['manufacturer'].isna()].index, axis=0)"
   ]
  },
  {
   "cell_type": "code",
   "execution_count": 5,
   "metadata": {},
   "outputs": [],
   "source": [
    "#Fill empty fuel\n",
    "for i, entry in cars[cars['fuel'].isna()].iterrows():\n",
    "    model = entry['model']\n",
    "    fuel = cars[cars['model'] == model]['fuel'].mode()\n",
    "    if fuel.empty:\n",
    "        fuel = \"NaN\"\n",
    "    else:\n",
    "        fuel = fuel.values\n",
    "    cars.loc[i, 'fuel'] = fuel"
   ]
  },
  {
   "cell_type": "code",
   "execution_count": 77,
   "metadata": {},
   "outputs": [
    {
     "data": {
      "text/html": [
       "<div>\n",
       "<style scoped>\n",
       "    .dataframe tbody tr th:only-of-type {\n",
       "        vertical-align: middle;\n",
       "    }\n",
       "\n",
       "    .dataframe tbody tr th {\n",
       "        vertical-align: top;\n",
       "    }\n",
       "\n",
       "    .dataframe thead th {\n",
       "        text-align: right;\n",
       "    }\n",
       "</style>\n",
       "<table border=\"1\" class=\"dataframe\">\n",
       "  <thead>\n",
       "    <tr style=\"text-align: right;\">\n",
       "      <th></th>\n",
       "      <th>price</th>\n",
       "      <th>year</th>\n",
       "      <th>odometer</th>\n",
       "      <th>lat</th>\n",
       "      <th>long</th>\n",
       "    </tr>\n",
       "  </thead>\n",
       "  <tbody>\n",
       "    <tr>\n",
       "      <th>price</th>\n",
       "      <td>1.000000</td>\n",
       "      <td>0.107065</td>\n",
       "      <td>-0.080144</td>\n",
       "      <td>-0.000174</td>\n",
       "      <td>-0.003296</td>\n",
       "    </tr>\n",
       "    <tr>\n",
       "      <th>year</th>\n",
       "      <td>0.107065</td>\n",
       "      <td>1.000000</td>\n",
       "      <td>-0.230020</td>\n",
       "      <td>0.014259</td>\n",
       "      <td>-0.007038</td>\n",
       "    </tr>\n",
       "    <tr>\n",
       "      <th>odometer</th>\n",
       "      <td>-0.080144</td>\n",
       "      <td>-0.230020</td>\n",
       "      <td>1.000000</td>\n",
       "      <td>-0.022528</td>\n",
       "      <td>0.032443</td>\n",
       "    </tr>\n",
       "    <tr>\n",
       "      <th>lat</th>\n",
       "      <td>-0.000174</td>\n",
       "      <td>0.014259</td>\n",
       "      <td>-0.022528</td>\n",
       "      <td>1.000000</td>\n",
       "      <td>-0.571335</td>\n",
       "    </tr>\n",
       "    <tr>\n",
       "      <th>long</th>\n",
       "      <td>-0.003296</td>\n",
       "      <td>-0.007038</td>\n",
       "      <td>0.032443</td>\n",
       "      <td>-0.571335</td>\n",
       "      <td>1.000000</td>\n",
       "    </tr>\n",
       "  </tbody>\n",
       "</table>\n",
       "</div>"
      ],
      "text/plain": [
       "             price      year  odometer       lat      long\n",
       "price     1.000000  0.107065 -0.080144 -0.000174 -0.003296\n",
       "year      0.107065  1.000000 -0.230020  0.014259 -0.007038\n",
       "odometer -0.080144 -0.230020  1.000000 -0.022528  0.032443\n",
       "lat      -0.000174  0.014259 -0.022528  1.000000 -0.571335\n",
       "long     -0.003296 -0.007038  0.032443 -0.571335  1.000000"
      ]
     },
     "execution_count": 77,
     "metadata": {},
     "output_type": "execute_result"
    }
   ],
   "source": [
    "cars.corr(method='pearson', min_periods=1)"
   ]
  },
  {
   "cell_type": "code",
   "execution_count": 2,
   "metadata": {},
   "outputs": [
    {
     "ename": "NameError",
     "evalue": "name 'plt' is not defined",
     "output_type": "error",
     "traceback": [
      "\u001b[1;31m---------------------------------------------------------------------------\u001b[0m",
      "\u001b[1;31mNameError\u001b[0m                                 Traceback (most recent call last)",
      "\u001b[1;32m<ipython-input-2-0d3fd0caf33f>\u001b[0m in \u001b[0;36m<module>\u001b[1;34m\u001b[0m\n\u001b[1;32m----> 1\u001b[1;33m \u001b[0max\u001b[0m \u001b[1;33m=\u001b[0m \u001b[0mplt\u001b[0m\u001b[1;33m.\u001b[0m\u001b[0mmatshow\u001b[0m\u001b[1;33m(\u001b[0m\u001b[0mcars\u001b[0m\u001b[1;33m.\u001b[0m\u001b[0mcorr\u001b[0m\u001b[1;33m(\u001b[0m\u001b[1;33m)\u001b[0m\u001b[1;33m)\u001b[0m\u001b[1;33m\u001b[0m\u001b[1;33m\u001b[0m\u001b[0m\n\u001b[0m\u001b[0;32m      2\u001b[0m \u001b[0mdisplay\u001b[0m\u001b[1;33m(\u001b[0m\u001b[0mcars\u001b[0m\u001b[1;33m[\u001b[0m\u001b[1;34m\"type\"\u001b[0m\u001b[1;33m]\u001b[0m\u001b[1;33m.\u001b[0m\u001b[0mastype\u001b[0m\u001b[1;33m(\u001b[0m\u001b[1;34m'category'\u001b[0m\u001b[1;33m)\u001b[0m\u001b[1;33m.\u001b[0m\u001b[0mcat\u001b[0m\u001b[1;33m.\u001b[0m\u001b[0mcodes\u001b[0m\u001b[1;33m)\u001b[0m\u001b[1;33m\u001b[0m\u001b[1;33m\u001b[0m\u001b[0m\n\u001b[0;32m      3\u001b[0m \u001b[0mprint\u001b[0m\u001b[1;33m(\u001b[0m\u001b[0mcars\u001b[0m\u001b[1;33m.\u001b[0m\u001b[0mloc\u001b[0m\u001b[1;33m[\u001b[0m\u001b[1;36m111364\u001b[0m\u001b[1;33m]\u001b[0m\u001b[1;33m[\u001b[0m\u001b[1;34m'type'\u001b[0m\u001b[1;33m]\u001b[0m\u001b[1;33m)\u001b[0m\u001b[1;33m\u001b[0m\u001b[1;33m\u001b[0m\u001b[0m\n\u001b[0;32m      4\u001b[0m \u001b[0mprint\u001b[0m\u001b[1;33m(\u001b[0m\u001b[0mcars\u001b[0m\u001b[1;33m.\u001b[0m\u001b[0mloc\u001b[0m\u001b[1;33m[\u001b[0m\u001b[1;36m111072\u001b[0m\u001b[1;33m]\u001b[0m\u001b[1;33m[\u001b[0m\u001b[1;34m'type'\u001b[0m\u001b[1;33m]\u001b[0m\u001b[1;33m)\u001b[0m\u001b[1;33m\u001b[0m\u001b[1;33m\u001b[0m\u001b[0m\n",
      "\u001b[1;31mNameError\u001b[0m: name 'plt' is not defined"
     ]
    }
   ],
   "source": [
    "ax = plt.matshow(cars.corr())\n",
    "display(cars[\"type\"].astype('category').cat.codes)\n",
    "print(cars.loc[111364]['type'])\n",
    "print(cars.loc[111072]['type'])"
   ]
  },
  {
   "cell_type": "code",
   "execution_count": 76,
   "metadata": {},
   "outputs": [
    {
     "data": {
      "text/plain": [
       "array(['clean', 'rebuilt', 'salvage', nan, 'lien', 'parts only',\n",
       "       'missing'], dtype=object)"
      ]
     },
     "execution_count": 76,
     "metadata": {},
     "output_type": "execute_result"
    }
   ],
   "source": [
    "cars['title_status'].unique()"
   ]
  }
 ],
 "metadata": {
  "kernelspec": {
   "display_name": "Python 3",
   "language": "python",
   "name": "python3"
  },
  "language_info": {
   "codemirror_mode": {
    "name": "ipython",
    "version": 3
   },
   "file_extension": ".py",
   "mimetype": "text/x-python",
   "name": "python",
   "nbconvert_exporter": "python",
   "pygments_lexer": "ipython3",
   "version": "3.8.3"
  }
 },
 "nbformat": 4,
 "nbformat_minor": 4
}
