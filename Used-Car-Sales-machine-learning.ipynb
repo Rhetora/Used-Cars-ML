{
 "cells": [
  {
   "cell_type": "markdown",
   "metadata": {},
   "source": [
    "# Used car sales machine learning"
   ]
  },
  {
   "cell_type": "markdown",
   "metadata": {},
   "source": [
    "## Load in data"
   ]
  },
  {
   "cell_type": "code",
   "execution_count": 1,
   "metadata": {},
   "outputs": [
    {
     "name": "stdout",
     "output_type": "stream",
     "text": [
      "Number of features: 544\n",
      "Number of rows: 5000\n",
      "\n",
      "\n"
     ]
    }
   ],
   "source": [
    "##Load in cleaned data\n",
    "\n",
    "import pandas as pd\n",
    "import numpy as np\n",
    "import matplotlib.pyplot as plt\n",
    "\n",
    "cars = pd.read_csv('cleaned_cars.csv', nrows=5000)\n",
    "\n",
    "print(\"Number of features: \" +str(len(cars.columns)))\n",
    "print(\"Number of rows: \"+str(len(cars)))\n",
    "print(\"\\n\")                "
   ]
  },
  {
   "cell_type": "markdown",
   "metadata": {},
   "source": [
    "## Split data into train and test sets"
   ]
  },
  {
   "cell_type": "code",
   "execution_count": 2,
   "metadata": {},
   "outputs": [],
   "source": [
    "cars = cars.sample(frac=1, random_state=42)\n",
    "#train, validation, test = np.split(cars,  [int(.6*len(cars)), int(.8*len(cars))])\n",
    "\n",
    "trainX = cars.drop(['price'], axis=1)\n",
    "trainY = cars['price']"
   ]
  },
  {
   "cell_type": "markdown",
   "metadata": {},
   "source": [
    "## Train many quick and dirty models"
   ]
  },
  {
   "cell_type": "code",
   "execution_count": 13,
   "metadata": {},
   "outputs": [],
   "source": [
    "from sklearn.model_selection import cross_val_score\n",
    "import scipy.stats as stats\n",
    "from sklearn.metrics import mean_squared_error\n",
    "\n",
    "def crossVal(model, X, Y, cv=10):\n",
    "    Xtemp = X\n",
    "    Ytemp = Y\n",
    "    dataX = []\n",
    "    dataY = []\n",
    "    fittedList = []\n",
    "    mseList = []\n",
    "    \n",
    "    #split into CV mini datsets\n",
    "    for i in range(0, cv):\n",
    "        Xsam = Xtemp.sample(int(len(Xtemp)/(cv-i)))\n",
    "        Ysam = Ytemp.loc[Xsam.index]\n",
    "        dataX.append(Xsam)\n",
    "        dataY.append(Ysam)\n",
    "        Xtemp = Xtemp.drop(Xsam.index)\n",
    "        Ytemp = Ytemp.drop(Ysam.index)\n",
    "    \n",
    "    #cross val with CV models\n",
    "    for i in range(0, cv):\n",
    "        trainX = pd.concat(dataX[:i] + dataX[i+1:], axis=0)\n",
    "        trainY = pd.concat(dataY[:i] + dataY[i+1:], axis=0)\n",
    "        testX = dataX[i]\n",
    "        testY = dataY[i]\n",
    "        fitModel = model.fit(trainX, trainY)\n",
    "        fittedList.append(fitModel)\n",
    "        testPredict = fitModel.predict(testX)\n",
    "        mse = mean_squared_error(testY, testPredict)\n",
    "        mseList.append(mse)\n",
    "\n",
    "    return fittedList, mseList\n",
    "    \n",
    "\n",
    "def testModelswithCrossVal(models, X, Y, k=10):\n",
    "    dists = {}\n",
    "    for model in models:\n",
    "        scores = cross_val_score(model, X, Y, cv=k, scoring='neg_mean_squared_error')\n",
    "        scores = np.asarray([ -x for x in scores])\n",
    "        \n",
    "        dists[model.__class__.__name__] = scores\n",
    "        \n",
    "        print(\"#####\"+str(model.__class__.__name__)+\"######\")\n",
    "        print('Mean = '+str(scores.mean()))\n",
    "        print('Std = '+str(scores.std()))\n",
    "        print('\\n')\n",
    "        \n",
    "    return dists\n"
   ]
  },
  {
   "cell_type": "markdown",
   "metadata": {},
   "source": [
    "### Linear Regression (with different regularizers)"
   ]
  },
  {
   "cell_type": "code",
   "execution_count": 14,
   "metadata": {
    "scrolled": false
   },
   "outputs": [
    {
     "data": {
      "text/plain": [
       "([Lasso(),\n",
       "  Lasso(),\n",
       "  Lasso(),\n",
       "  Lasso(),\n",
       "  Lasso(),\n",
       "  Lasso(),\n",
       "  Lasso(),\n",
       "  Lasso(),\n",
       "  Lasso(),\n",
       "  Lasso()],\n",
       " [0.00933334879274601,\n",
       "  0.009359037822028316,\n",
       "  0.01015070748420299,\n",
       "  0.011997480404459282,\n",
       "  0.011664394235363642,\n",
       "  0.00928491423171767,\n",
       "  0.010569932915699656,\n",
       "  0.010529519633722244,\n",
       "  0.009968241164934964,\n",
       "  0.011830364592685029])"
      ]
     },
     "execution_count": 14,
     "metadata": {},
     "output_type": "execute_result"
    }
   ],
   "source": [
    "from sklearn import linear_model\n",
    "\n",
    "models = []\n",
    "models.append(linear_model.LinearRegression())\n",
    "models.append(linear_model.Lasso())\n",
    "models.append(linear_model.Ridge())\n",
    "\n",
    "crossVal(models[1], trainX, trainY)\n",
    "\n",
    "#linregdists = testModelswithCrossVal(models, trainX, trainY)    "
   ]
  },
  {
   "cell_type": "markdown",
   "metadata": {},
   "source": [
    "### SVM/support vector regression"
   ]
  },
  {
   "cell_type": "code",
   "execution_count": 15,
   "metadata": {},
   "outputs": [],
   "source": [
    "from sklearn.svm import SVR\n",
    "\n",
    "models = []\n",
    "#models.append(SVR(C=1.0, epsilon=0.2))\n",
    "SVRdists = testModelswithCrossVal(models, trainX, trainY)    "
   ]
  },
  {
   "cell_type": "markdown",
   "metadata": {},
   "source": [
    "### MLP/fully connected neural network"
   ]
  },
  {
   "cell_type": "code",
   "execution_count": 7,
   "metadata": {},
   "outputs": [
    {
     "name": "stdout",
     "output_type": "stream",
     "text": [
      "#####MLPRegressor######\n",
      "Mean = 0.0028795726196064186\n",
      "Std = 6.394791094055055e-05\n",
      "\n",
      "\n"
     ]
    }
   ],
   "source": [
    "from sklearn.neural_network import MLPRegressor\n",
    "\n",
    "models = []\n",
    "models.append(MLPRegressor(random_state=1, max_iter=500))\n",
    "MLPdists = testModelswithCrossVal(models, trainX, trainY)    "
   ]
  },
  {
   "cell_type": "markdown",
   "metadata": {},
   "source": [
    "### Decision trees"
   ]
  },
  {
   "cell_type": "code",
   "execution_count": 8,
   "metadata": {},
   "outputs": [
    {
     "name": "stdout",
     "output_type": "stream",
     "text": [
      "#####DecisionTreeRegressor######\n",
      "Mean = 0.006960746580148178\n",
      "Std = 7.098631868575549e-05\n",
      "\n",
      "\n"
     ]
    }
   ],
   "source": [
    "from sklearn.tree import DecisionTreeRegressor\n",
    "\n",
    "models = []\n",
    "models.append(DecisionTreeRegressor(random_state=0, max_depth=2))\n",
    "\n",
    "decisiontreedists = testModelswithCrossVal(models, trainX, trainY)    "
   ]
  },
  {
   "cell_type": "markdown",
   "metadata": {},
   "source": [
    "### Ensemble Methods (Bagging (Random Forests) and Boosting (Adaboost and XGBoost))"
   ]
  },
  {
   "cell_type": "code",
   "execution_count": 9,
   "metadata": {},
   "outputs": [
    {
     "name": "stdout",
     "output_type": "stream",
     "text": [
      "#####RandomForestRegressor######\n",
      "Mean = 0.006927427681881179\n",
      "Std = 7.677975886843919e-05\n",
      "\n",
      "\n",
      "#####AdaBoostRegressor######\n",
      "Mean = 0.017910345341897737\n",
      "Std = 0.007819577904465958\n",
      "\n",
      "\n"
     ]
    },
    {
     "name": "stderr",
     "output_type": "stream",
     "text": [
      "C:\\ProgramData\\Anaconda3\\lib\\site-packages\\xgboost\\data.py:112: UserWarning: Use subset (sliced data) of np.ndarray is not recommended because it will generate extra copies and increase memory consumption\n",
      "  warnings.warn(\n",
      "C:\\ProgramData\\Anaconda3\\lib\\site-packages\\xgboost\\data.py:112: UserWarning: Use subset (sliced data) of np.ndarray is not recommended because it will generate extra copies and increase memory consumption\n",
      "  warnings.warn(\n",
      "C:\\ProgramData\\Anaconda3\\lib\\site-packages\\xgboost\\data.py:112: UserWarning: Use subset (sliced data) of np.ndarray is not recommended because it will generate extra copies and increase memory consumption\n",
      "  warnings.warn(\n",
      "C:\\ProgramData\\Anaconda3\\lib\\site-packages\\xgboost\\data.py:112: UserWarning: Use subset (sliced data) of np.ndarray is not recommended because it will generate extra copies and increase memory consumption\n",
      "  warnings.warn(\n",
      "C:\\ProgramData\\Anaconda3\\lib\\site-packages\\xgboost\\data.py:112: UserWarning: Use subset (sliced data) of np.ndarray is not recommended because it will generate extra copies and increase memory consumption\n",
      "  warnings.warn(\n",
      "C:\\ProgramData\\Anaconda3\\lib\\site-packages\\xgboost\\data.py:112: UserWarning: Use subset (sliced data) of np.ndarray is not recommended because it will generate extra copies and increase memory consumption\n",
      "  warnings.warn(\n",
      "C:\\ProgramData\\Anaconda3\\lib\\site-packages\\xgboost\\data.py:112: UserWarning: Use subset (sliced data) of np.ndarray is not recommended because it will generate extra copies and increase memory consumption\n",
      "  warnings.warn(\n",
      "C:\\ProgramData\\Anaconda3\\lib\\site-packages\\xgboost\\data.py:112: UserWarning: Use subset (sliced data) of np.ndarray is not recommended because it will generate extra copies and increase memory consumption\n",
      "  warnings.warn(\n",
      "C:\\ProgramData\\Anaconda3\\lib\\site-packages\\xgboost\\data.py:112: UserWarning: Use subset (sliced data) of np.ndarray is not recommended because it will generate extra copies and increase memory consumption\n",
      "  warnings.warn(\n"
     ]
    },
    {
     "name": "stdout",
     "output_type": "stream",
     "text": [
      "#####XGBRegressor######\n",
      "Mean = 0.0027670386565272443\n",
      "Std = 3.6023098537744395e-05\n",
      "\n",
      "\n"
     ]
    },
    {
     "name": "stderr",
     "output_type": "stream",
     "text": [
      "C:\\ProgramData\\Anaconda3\\lib\\site-packages\\xgboost\\data.py:112: UserWarning: Use subset (sliced data) of np.ndarray is not recommended because it will generate extra copies and increase memory consumption\n",
      "  warnings.warn(\n"
     ]
    }
   ],
   "source": [
    "from sklearn.ensemble import RandomForestRegressor\n",
    "from sklearn.ensemble import AdaBoostRegressor\n",
    "from xgboost import XGBRegressor\n",
    "\n",
    "models = []\n",
    "models.append(RandomForestRegressor(max_depth=2, random_state=0))\n",
    "models.append(AdaBoostRegressor())\n",
    "models.append(XGBRegressor())\n",
    "\n",
    "ensembledists = testModelswithCrossVal(models, trainX, trainY)    \n"
   ]
  },
  {
   "cell_type": "markdown",
   "metadata": {},
   "source": [
    "## Evaluate the quick and dirty models"
   ]
  },
  {
   "cell_type": "code",
   "execution_count": 16,
   "metadata": {},
   "outputs": [
    {
     "data": {
      "text/plain": [
       "<matplotlib.legend.Legend at 0x1f7ccc6bdf0>"
      ]
     },
     "execution_count": 16,
     "metadata": {},
     "output_type": "execute_result"
    },
    {
     "data": {
      "image/png": "[encoded data removed]",
      "text/plain": [
       "<Figure size 1152x1152 with 1 Axes>"
      ]
     },
     "metadata": {
      "needs_background": "light"
     },
     "output_type": "display_data"
    }
   ],
   "source": [
    "import scipy.stats as stats\n",
    "import matplotlib.pyplot as plt\n",
    "import math\n",
    "%matplotlib inline\n",
    "\n",
    "\n",
    "##Plot respective distributions of models over k-fold cross validation\n",
    "fig, ax = plt.subplots(nrows=1, ncols=1, figsize=(16,16))\n",
    "\n",
    "x = np.linspace(0,0.015, 10000)\n",
    "ax.plot(x, stats.norm.pdf(x, linregdists['Lasso'].mean(),  math.sqrt(linregdists['Lasso'].var())), label = 'LASSO')\n",
    "ax.plot(x, stats.norm.pdf(x, linregdists['Ridge'].mean(),  math.sqrt(linregdists['Ridge'].var())), label = 'RIDGE')\n",
    "ax.plot(x, stats.norm.pdf(x, MLPdists ['MLPRegressor'].mean(),  math.sqrt(MLPdists['MLPRegressor'].var())), label = 'MLPRegressor')\n",
    "ax.plot(x, stats.norm.pdf(x, decisiontreedists ['DecisionTreeRegressor'].mean(),  math.sqrt(decisiontreedists['DecisionTreeRegressor'].var())), label = 'DecisionTreeRegressor')\n",
    "ax.plot(x, stats.norm.pdf(x, ensembledists ['RandomForestRegressor'].mean(),  math.sqrt(ensembledists['RandomForestRegressor'].var())), label = 'RandomForestRegressor')\n",
    "ax.plot(x, stats.norm.pdf(x, ensembledists ['AdaBoostRegressor'].mean(),  math.sqrt(ensembledists['AdaBoostRegressor'].var())), label = 'AdaBoostRegressor')\n",
    "ax.plot(x, stats.norm.pdf(x, ensembledists ['XGBRegressor'].mean(),  math.sqrt(ensembledists['XGBRegressor'].var())), label = 'XGBRegressor')\n",
    "\n",
    "ax.legend()"
   ]
  },
  {
   "cell_type": "code",
   "execution_count": null,
   "metadata": {},
   "outputs": [],
   "source": []
  }
 ],
 "metadata": {
  "kernelspec": {
   "display_name": "Python 3",
   "language": "python",
   "name": "python3"
  },
  "language_info": {
   "codemirror_mode": {
    "name": "ipython",
    "version": 3
   },
   "file_extension": ".py",
   "mimetype": "text/x-python",
   "name": "python",
   "nbconvert_exporter": "python",
   "pygments_lexer": "ipython3",
   "version": "3.8.3"
  }
 },
 "nbformat": 4,
 "nbformat_minor": 4
}
