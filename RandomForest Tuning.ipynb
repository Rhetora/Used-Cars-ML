{
 "cells": [
  {
   "cell_type": "markdown",
   "metadata": {},
   "source": [
    "# Tuning RandomForestRegressor"
   ]
  },
  {
   "cell_type": "code",
   "execution_count": 5,
   "metadata": {},
   "outputs": [
    {
     "name": "stdout",
     "output_type": "stream",
     "text": [
      "Number of features: 544\n",
      "Number of rows: 8000\n",
      "\n",
      "\n"
     ]
    }
   ],
   "source": [
    "import pandas as pd\n",
    "import numpy as np\n",
    "import matplotlib.pyplot as plt\n",
    "from sklearn.ensemble import RandomForestRegressor\n",
    "\n",
    "train = pd.read_csv('train_vehicles.csv', nrows=8000)\n",
    "#test = pd.read_csv('test_vehicles.csv', nrows=2000)\n",
    "\n",
    "trainX = train.drop(['price'], axis=1)\n",
    "trainY = train['price']\n",
    "\n",
    "print(\"Number of features: \" +str(len(train.columns)))\n",
    "print(\"Number of rows: \"+str(len(train)))\n",
    "print(\"\\n\")  \n",
    "     "
   ]
  },
  {
   "cell_type": "code",
   "execution_count": 10,
   "metadata": {},
   "outputs": [],
   "source": [
    "from sklearn.metrics import mean_squared_error\n",
    "\n",
    "def crossVal(model, X, Y, cv=10):\n",
    "    Xtemp = X\n",
    "    Ytemp = Y\n",
    "    dataX = []\n",
    "    dataY = []\n",
    "    fittedList = []\n",
    "    mseList = []\n",
    "    \n",
    "    #split into CV mini datsets\n",
    "    for i in range(0, cv):\n",
    "        Xsam = Xtemp.sample(int(len(Xtemp)/(cv-i)))\n",
    "        Ysam = Ytemp.loc[Xsam.index]\n",
    "        dataX.append(Xsam)\n",
    "        dataY.append(Ysam)\n",
    "        Xtemp = Xtemp.drop(Xsam.index)\n",
    "        Ytemp = Ytemp.drop(Ysam.index)\n",
    "    \n",
    "    #cross val with CV models\n",
    "    for i in range(0, cv):\n",
    "        trainX = pd.concat(dataX[:i] + dataX[i+1:], axis=0)\n",
    "        trainY = pd.concat(dataY[:i] + dataY[i+1:], axis=0)\n",
    "        testX = dataX[i]\n",
    "        testY = dataY[i]\n",
    "        fitModel = model.fit(trainX, trainY)\n",
    "        fittedList.append(fitModel)\n",
    "        testPredict = fitModel.predict(testX)\n",
    "        mse = mean_squared_error(testY, testPredict)\n",
    "        mseList.append(mse)\n",
    "\n",
    "    return fittedList, mseList"
   ]
  },
  {
   "cell_type": "code",
   "execution_count": 7,
   "metadata": {},
   "outputs": [],
   "source": [
    "\n",
    "modelsList, mseList = crossVal(RandomForestRegressor(), trainX, trainY, cv=10)"
   ]
  },
  {
   "cell_type": "code",
   "execution_count": 12,
   "metadata": {},
   "outputs": [
    {
     "name": "stdout",
     "output_type": "stream",
     "text": [
      "0.0037439702574549676\n",
      "0.0004893820403139392\n",
      "2.39494781381834e-07\n",
      "Default Parameters:\n"
     ]
    },
    {
     "data": {
      "text/plain": [
       "{'bootstrap': True,\n",
       " 'ccp_alpha': 0.0,\n",
       " 'criterion': 'mse',\n",
       " 'max_depth': None,\n",
       " 'max_features': 'auto',\n",
       " 'max_leaf_nodes': None,\n",
       " 'max_samples': None,\n",
       " 'min_impurity_decrease': 0.0,\n",
       " 'min_impurity_split': None,\n",
       " 'min_samples_leaf': 1,\n",
       " 'min_samples_split': 2,\n",
       " 'min_weight_fraction_leaf': 0.0,\n",
       " 'n_estimators': 100,\n",
       " 'n_jobs': None,\n",
       " 'oob_score': False,\n",
       " 'random_state': None,\n",
       " 'verbose': 0,\n",
       " 'warm_start': False}"
      ]
     },
     "metadata": {},
     "output_type": "display_data"
    }
   ],
   "source": [
    "mean = np.asarray(mseList).mean()\n",
    "std = np.asarray(mseList).std()\n",
    "var = np.asarray(mseList).var()\n",
    "print(mean)\n",
    "print(std)\n",
    "print(var)\n",
    "print(\"Default Parameters:\")\n",
    "display(modelsList[0].get_params())"
   ]
  },
  {
   "cell_type": "code",
   "execution_count": 16,
   "metadata": {},
   "outputs": [
    {
     "data": {
      "text/plain": [
       "{'n_estimators': [100, 200, 400, 600, 800, 1000, 1200, 1400, 1600, 1800, 2000],\n",
       " 'max_features': ['auto', 'sqrt', 'log2'],\n",
       " 'max_depth': [10, 20, 30, 40, 50, 60, 70, 80, 90, 100, None],\n",
       " 'min_samples_split': [2, 5, 10],\n",
       " 'min_samples_leaf': [1, 2, 4],\n",
       " 'bootstrap': [True, False],\n",
       " 'criterion': ['mse', 'mae']}"
      ]
     },
     "metadata": {},
     "output_type": "display_data"
    }
   ],
   "source": [
    "from sklearn.model_selection import RandomizedSearchCV\n",
    "\n",
    "#setup grid of parameters to change\n",
    "\n",
    "# Sample selection method\n",
    "bootstrap = [True, False]\n",
    "\n",
    "#Criterion (mean squared error or mean absolute error)\n",
    "criterion = ['mse', 'mae']\n",
    "\n",
    "#Max levels in tree\n",
    "max_depth = [10, 20, 30, 40, 50, 60, 70, 80, 90, 100, None]\n",
    "\n",
    "# Number of features to consider for best split\n",
    "max_features = ['auto', 'sqrt', 'log2']\n",
    "\n",
    "# Minimum number of samples to split\n",
    "min_samples_split = [2, 5, 10]\n",
    "\n",
    "# Minimum number of samples at node\n",
    "min_samples_leaf = [1, 2, 4]\n",
    "\n",
    "# Number of trees\n",
    "n_estimators = [100, 200, 400, 600, 800, 1000, 1200, 1400, 1600, 1800, 2000]\n",
    "\n",
    "# Create the random grid\n",
    "random_grid = {'n_estimators': n_estimators,\n",
    "               'max_features': max_features,\n",
    "               'max_depth': max_depth,\n",
    "               'min_samples_split': min_samples_split,\n",
    "               'min_samples_leaf': min_samples_leaf,\n",
    "               'bootstrap': bootstrap,\n",
    "               'criterion': criterion}\n",
    "display(random_grid)"
   ]
  },
  {
   "cell_type": "code",
   "execution_count": null,
   "metadata": {},
   "outputs": [
    {
     "name": "stdout",
     "output_type": "stream",
     "text": [
      "Fitting 10 folds for each of 100 candidates, totalling 1000 fits\n"
     ]
    }
   ],
   "source": [
    "rfr = RandomForestRegressor()\n",
    "\n",
    "rfr_random = RandomizedSearchCV(estimator = rfr, param_distributions = random_grid, n_iter = 100, cv = 10, verbose=2, n_jobs = -1)\n",
    "\n",
    "rfr_random.fit(trainX, trainY)"
   ]
  },
  {
   "cell_type": "code",
   "execution_count": null,
   "metadata": {},
   "outputs": [],
   "source": []
  }
 ],
 "metadata": {
  "kernelspec": {
   "display_name": "Python 3",
   "language": "python",
   "name": "python3"
  },
  "language_info": {
   "codemirror_mode": {
    "name": "ipython",
    "version": 3
   },
   "file_extension": ".py",
   "mimetype": "text/x-python",
   "name": "python",
   "nbconvert_exporter": "python",
   "pygments_lexer": "ipython3",
   "version": "3.8.3"
  }
 },
 "nbformat": 4,
 "nbformat_minor": 4
}
