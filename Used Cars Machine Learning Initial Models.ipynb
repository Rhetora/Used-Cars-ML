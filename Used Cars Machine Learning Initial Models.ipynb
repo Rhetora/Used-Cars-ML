{
 "cells": [
  {
   "cell_type": "code",
   "execution_count": 5,
   "metadata": {},
   "outputs": [],
   "source": [
    "import pandas as pd\n",
    "import numpy as np\n",
    "import matplotlib.pyplot as plt\n",
    "import seaborn as sns\n",
    "import statistics as stats\n",
    "import sklearn.metrics\n",
    "\n",
    "def loadDataSample(samplesize: int, populationsize: int):\n",
    "    full = pd.read_csv('cleaned_cars.csv', nrows=populationsize) #take 10k rows due to memory limitations\n",
    "    sample = full.sample(n=samplesize)\n",
    "    del(full)\n",
    "    print(\"Number of features: \" +str(len(sample.columns)))\n",
    "    print(\"Number of rows: \"+str(len(sample)))\n",
    "    print(\"\\n\")\n",
    "    \n",
    "    return sample\n",
    "\n",
    "def loadDataSet():\n",
    "    full = pd.read_csv('cleaned_cars.csv')\n",
    "    \n",
    "    return full\n",
    "\n",
    "def splitTestTrain(data):\n",
    "    train = data.sample(frac=0.75)\n",
    "\n",
    "    #validate = full.drop(train.index).sample(frac=0.5)\n",
    "\n",
    "    test = data.drop(train.index)\n",
    "\n",
    "    print(\"Train size = \"+str(len(train)))\n",
    "    #print(\"Validation size = \"+str(len(validation)))\n",
    "    print(\"Test size = \"+str(len(test))) \n",
    "    \n",
    "    return train,test"
   ]
  },
  {
   "cell_type": "code",
   "execution_count": 6,
   "metadata": {},
   "outputs": [
    {
     "name": "stdout",
     "output_type": "stream",
     "text": [
      "Number of features: 544\n",
      "Number of rows: 10000\n",
      "\n",
      "\n",
      "Train size = 7500\n",
      "Test size = 2500\n"
     ]
    }
   ],
   "source": [
    "cars = loadDataSample(10000, 20000)\n",
    "train, test = splitTestTrain(cars)\n",
    "del(cars)\n",
    "\n",
    "trainX = train.drop(['price'], axis=1)\n",
    "trainY = train['price']\n",
    "\n",
    "#validX = validation.drop(['price'], axis=1)\n",
    "#validY = validation['price']\n",
    "\n",
    "testX = test.drop(['price'], axis=1)\n",
    "testY = test['price']"
   ]
  },
  {
   "cell_type": "markdown",
   "metadata": {},
   "source": [
    "# Linear"
   ]
  },
  {
   "cell_type": "code",
   "execution_count": 8,
   "metadata": {},
   "outputs": [
    {
     "name": "stdout",
     "output_type": "stream",
     "text": [
      "#####Normal Linear Regression######\n",
      "Train MSE: 0.004443888554720913\n",
      "Test MSE: 0.004316138499511461\n",
      "K Fold Cross Validation Score (k=10)-1.973776279129402e+20\n",
      "\n",
      "\n",
      "#####LASSO Linear Regression######\n",
      "Train MSE: 0.0121266564685232\n",
      "Test MSE: 0.011806262889681094\n",
      "K Fold Cross Validation Score (k=10)-0.012130831747777845\n",
      "\n",
      "\n",
      "#####RIDGE Linear Regression######\n",
      "Train MSE: 0.004424609951920451\n",
      "Test MSE: 0.00430793672703212\n",
      "K Fold Cross Validation Score (k=10)-0.004573619453479722\n",
      "\n",
      "\n",
      "#####ARD Linear Regression######\n",
      "Train MSE: 0.0045082383859658\n",
      "Test MSE: 0.004313486575795373\n",
      "K Fold Cross Validation Score (k=10): -0.004625410120090687\n",
      "\n",
      "\n"
     ]
    }
   ],
   "source": [
    "from sklearn import linear_model\n",
    "from sklearn.metrics import mean_squared_error\n",
    "from sklearn.model_selection import cross_val_score\n",
    "\n",
    "##Normal linear regression\n",
    "reg = linear_model.LinearRegression()\n",
    "reg.fit(trainX, trainY)\n",
    "trainPredict = reg.predict(trainX)\n",
    "#validPredict = reg.predict(validX)\n",
    "testPredict = reg.predict(testX)\n",
    "regCrossValScore = cross_val_score(reg, trainX, trainY, cv=10, scoring='neg_mean_squared_error')\n",
    "\n",
    "print(\"#####Normal Linear Regression######\")\n",
    "print(\"Train MSE: \"+str(mean_squared_error(trainY, trainPredict)))\n",
    "#print(\"Validation MSE: \"+str(mean_squared_error(validY, validPredict)))\n",
    "print(\"Test MSE: \"+str(mean_squared_error(testY, testPredict)))\n",
    "print(\"K Fold Cross Validation Score (k=10)\"+ str(regCrossValScore.mean()))\n",
    "print('\\n')\n",
    "\n",
    "##Linear regression with L1 (LASSO) regulariser\n",
    "lasso = linear_model.Lasso(alpha=0.1)\n",
    "lasso.fit(trainX, trainY)\n",
    "trainPredict = lasso.predict(trainX)\n",
    "#validPredict = lasso.predict(validX)\n",
    "testPredict = lasso.predict(testX)\n",
    "lassoCrossValScore = cross_val_score(lasso, trainX, trainY, cv=10, scoring='neg_mean_squared_error')\n",
    "\n",
    "print(\"#####LASSO Linear Regression######\")\n",
    "print(\"Train MSE: \"+str(mean_squared_error(trainY, trainPredict)))\n",
    "#print(\"Validation MSE: \"+str(mean_squared_error(validY, validPredict)))\n",
    "print(\"Test MSE: \"+str(mean_squared_error(testY, testPredict)))\n",
    "print(\"K Fold Cross Validation Score (k=10)\"+ str(lassoCrossValScore.mean()))\n",
    "print('\\n')\n",
    "\n",
    "\n",
    "##Linear regression with L2 (RIDGE) regulariser\n",
    "ridge = linear_model.Ridge(alpha=.5)\n",
    "ridge.fit(trainX, trainY)\n",
    "trainPredict = ridge.predict(trainX)\n",
    "#validPredict = ridge.predict(validX)\n",
    "testPredict = ridge.predict(testX)\n",
    "ridgeCrossValScore = cross_val_score(ridge, trainX, trainY, cv=10, scoring='neg_mean_squared_error')\n",
    "\n",
    "print(\"#####RIDGE Linear Regression######\")\n",
    "print(\"Train MSE: \"+str(mean_squared_error(trainY, trainPredict)))\n",
    "#print(\"Validation MSE: \"+str(mean_squared_error(validY, validPredict)))\n",
    "print(\"Test MSE: \"+str(mean_squared_error(testY, testPredict)))\n",
    "print(\"K Fold Cross Validation Score (k=10)\"+ str(ridgeCrossValScore.mean()))\n",
    "print('\\n')\n",
    "\n",
    "##Linear regression ARD prior\n",
    "ard = linear_model.ARDRegression()\n",
    "ard.fit(trainX, trainY)\n",
    "trainPredict = ard.predict(trainX)\n",
    "#validPredict = ard.predict(validX)\n",
    "testPredict = ard.predict(testX)\n",
    "ardCrossValScore = cross_val_score(ard, trainX, trainY, cv=5, scoring='neg_mean_squared_error')\n",
    "\n",
    "print(\"#####ARD Linear Regression######\")\n",
    "print(\"Train MSE: \"+str(mean_squared_error(trainY, trainPredict)))\n",
    "#print(\"Validation MSE: \"+str(mean_squared_error(validY, validPredict)))\n",
    "print(\"Test MSE: \"+str(mean_squared_error(testY, testPredict)))\n",
    "print(\"K Fold Cross Validation Score (k=10): \"+ str(ardCrossValScore.mean()))\n",
    "print('\\n')\n"
   ]
  },
  {
   "cell_type": "markdown",
   "metadata": {},
   "source": [
    "# Naive Bayes"
   ]
  },
  {
   "cell_type": "code",
   "execution_count": null,
   "metadata": {},
   "outputs": [],
   "source": []
  },
  {
   "cell_type": "markdown",
   "metadata": {},
   "source": [
    "# SVM"
   ]
  },
  {
   "cell_type": "code",
   "execution_count": null,
   "metadata": {},
   "outputs": [],
   "source": []
  },
  {
   "cell_type": "markdown",
   "metadata": {},
   "source": [
    "# Random Forests"
   ]
  },
  {
   "cell_type": "code",
   "execution_count": 9,
   "metadata": {},
   "outputs": [
    {
     "name": "stdout",
     "output_type": "stream",
     "text": [
      "#####Bagging (Random Forests) ######\n",
      "Train MSE: 0.0066804739112627165\n",
      "Test MSE: 0.006259156039364021\n",
      "K Fold Cross Validation Score (k=5): -0.0066874192106492645\n",
      "K Fold CV std dev: 0.00040405973681935316\n",
      "\n",
      "\n"
     ]
    }
   ],
   "source": [
    "from sklearn.ensemble import RandomForestRegressor\n",
    "\n",
    "randForestReg = RandomForestRegressor(max_depth=2, random_state=0)\n",
    "randForestReg.fit(trainX, trainY)\n",
    "trainPredict = randForestReg.predict(trainX)\n",
    "#validPredict = randForestReg.predict(validX)\n",
    "testPredict = randForestReg.predict(testX)\n",
    "rForestCrossValScore = cross_val_score(randForestReg, trainX, trainY, cv=5, scoring='neg_mean_squared_error')\n",
    "\n",
    "print(\"#####Bagging (Random Forests) ######\")\n",
    "print(\"Train MSE: \"+str(mean_squared_error(trainY, trainPredict)))\n",
    "#print(\"Validation MSE: \"+str(mean_squared_error(validY, validPredict)))\n",
    "print(\"Test MSE: \"+str(mean_squared_error(testY, testPredict)))\n",
    "print(\"K Fold Cross Validation Score (k=5): \"+ str(rForestCrossValScore.mean()))\n",
    "print(\"K Fold CV std dev: \"+ str(stats.stdev(rForestCrossValScore)))\n",
    "print('\\n')"
   ]
  },
  {
   "cell_type": "markdown",
   "metadata": {},
   "source": [
    "# Neural Nets"
   ]
  },
  {
   "cell_type": "code",
   "execution_count": null,
   "metadata": {},
   "outputs": [],
   "source": []
  }
 ],
 "metadata": {
  "kernelspec": {
   "display_name": "Python 3",
   "language": "python",
   "name": "python3"
  },
  "language_info": {
   "codemirror_mode": {
    "name": "ipython",
    "version": 3
   },
   "file_extension": ".py",
   "mimetype": "text/x-python",
   "name": "python",
   "nbconvert_exporter": "python",
   "pygments_lexer": "ipython3",
   "version": "3.8.3"
  }
 },
 "nbformat": 4,
 "nbformat_minor": 4
}
